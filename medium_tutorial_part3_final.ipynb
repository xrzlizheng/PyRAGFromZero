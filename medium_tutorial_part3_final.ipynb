{
 "cells": [
  {
   "cell_type": "markdown",
   "id": "2f4d7b23",
   "metadata": {},
   "source": [
    "# How We Catch Hallucinations in Medical AI: Beyond Basic RAG\n"
   ]
  },
  {
   "cell_type": "code",
   "execution_count": null,
   "id": "975028c6",
   "metadata": {},
   "outputs": [
    {
     "name": "stderr",
     "output_type": "stream",
     "text": [
      "/opt/anaconda3/envs/ml_dev/lib/python3.11/site-packages/tqdm/auto.py:21: TqdmWarning: IProgress not found. Please update jupyter and ipywidgets. See https://ipywidgets.readthedocs.io/en/stable/user_install.html\n",
      "  from .autonotebook import tqdm as notebook_tqdm\n"
     ]
    },
    {
     "data": {
      "text/plain": [
       "True"
      ]
     },
     "execution_count": 1,
     "metadata": {},
     "output_type": "execute_result"
    }
   ],
   "source": [
    "import re\n",
    "import json\n",
    "import time\n",
    "import numpy as np\n",
    "from sentence_transformers import SentenceTransformer\n",
    "from sklearn.metrics.pairwise import cosine_similarity\n",
    "\n",
    "\n",
    "from llama_index.core import Settings\n",
    "from llama_index.embeddings.huggingface import HuggingFaceEmbedding\n",
    "from llama_index.llms.openai import OpenAI\n",
    "\n",
    "from llama_index.core import StorageContext, load_index_from_storage\n",
    "from llama_index.core.response_synthesizers import ResponseMode\n",
    "\n",
    "from llama_index.core.postprocessor import SentenceTransformerRerank\n",
    "\n",
    "from dotenv import load_dotenv\n",
    "\n",
    "# Load environment variables.\n",
    "load_dotenv()"
   ]
  },
  {
   "cell_type": "markdown",
   "id": "34345a7b",
   "metadata": {},
   "source": [
    "# 1. Create the query engine from post 2\n",
    "Here we assume you already have indexed your knowledge base. If that is not the case, follow the steps [here](https://pub.towardsai.net/hallucinations-in-healthcare-llms-why-they-happen-and-how-to-prevent-them-614d845242f4) to download your knowledge base and [here](https://pub.towardsai.net/how-to-build-a-rag-system-for-healthcare-minimize-hallucinations-in-llm-outputs-0b8ea4a4eaae) to build it"
   ]
  },
  {
   "cell_type": "code",
   "execution_count": 2,
   "id": "2a051ceb",
   "metadata": {},
   "outputs": [],
   "source": [
    "# We will be using the bioBERT embeddings and small chunks configuraion from post 2\n",
    "bio_embed = HuggingFaceEmbedding(model_name=\"pritamdeka/BioBERT-mnli-snli-scinli-scitail-mednli-stsb\")\n",
    "Settings.embed_model = bio_embed\n",
    "Settings.chunk_size = 256\n",
    "Settings.chunk_overlap = 20"
   ]
  },
  {
   "cell_type": "code",
   "execution_count": 3,
   "id": "3f62aa1c",
   "metadata": {},
   "outputs": [],
   "source": [
    "# We update slightly the create_engine function to add the reranker option\n",
    "def create_query_engine(index_path, llm, k=5, reranker=None):\n",
    "    # Load the index\n",
    "    storage_context = StorageContext.from_defaults(persist_dir=index_path)\n",
    "    index = load_index_from_storage(storage_context)\n",
    "\n",
    "    # Configure the LLM\n",
    "    Settings.llm = llm\n",
    "\n",
    "    # Common kwargs\n",
    "    qe_kwargs = {\n",
    "        \"response_mode\": ResponseMode.TREE_SUMMARIZE,\n",
    "        \"text_qa_template\": \"\"\"\n",
    "    You are a medical information assistant.\n",
    "    Answer the question based ONLY on the following context.\n",
    "    If you don't know the answer from the context, say \"I don't have enough information to answer this question reliably. Please consult a healthcare professional.\"\n",
    "    Do NOT make up or infer information not present in the context.\n",
    "    Always cite the PMCID when providing information.\n",
    "\n",
    "    Context:\n",
    "    {context}\n",
    "\n",
    "    Question: {query_str}\n",
    "\n",
    "    Answer:\"\"\",\n",
    "        \"similarity_top_k\": k,\n",
    "    }\n",
    "\n",
    "    # Add the reranker only if it's defined\n",
    "    if reranker:\n",
    "        qe_kwargs[\"node_postprocessors\"] = [reranker]\n",
    "\n",
    "    # Build the query engine\n",
    "    query_engine = index.as_query_engine(**qe_kwargs)\n",
    "\n",
    "    return query_engine"
   ]
  },
  {
   "cell_type": "code",
   "execution_count": 4,
   "id": "3648656e",
   "metadata": {},
   "outputs": [],
   "source": [
    "# Use biobert index and the reranker\n",
    "llm = OpenAI(model=\"gpt-4o-2024-11-20\", temperature=0.1)\n",
    "reranker = SentenceTransformerRerank(\n",
    "        model=\"mixedbread-ai/mxbai-rerank-base-v1\", \n",
    "        top_n=4,\n",
    ")\n",
    "index_path = \"./pneumonia_biobert_256\"\n",
    "query_engine_reranker = create_query_engine(index_path, llm, reranker=reranker, k=12)"
   ]
  },
  {
   "cell_type": "markdown",
   "id": "6109aa27",
   "metadata": {},
   "source": [
    "Before digging into the new metrics, let's run ragas on our system to identify questions that are potentially challenging\n",
    "\n",
    "# Run RAGAS on test set"
   ]
  },
  {
   "cell_type": "code",
   "execution_count": null,
   "id": "8aa60a01",
   "metadata": {},
   "outputs": [],
   "source": [
    "from ragas import EvaluationDataset\n",
    "from ragas import SingleTurnSample \n",
    "\n",
    "pneumonia_questions = [\n",
    "    # community-acquired pneumonia (CAP)\n",
    "    \"What is the first-line antibiotic regimen for outpatient treatment of uncomplicated community-acquired bacterial pneumonia in an adult with no comorbidities?\",\n",
    "    \"When is dual therapy with a β-lactam plus macrolide preferred over monotherapy for CAP?\",\n",
    "    \"Recommended duration of therapy for uncomplicated CAP caused by Streptococcus pneumoniae?\",\n",
    "    \"How does recommended empiric therapy change for CAP in regions with >25 % macrolide-resistant S. pneumoniae?\",\n",
    "    \"Which respiratory fluoroquinolones are acceptable alternatives for CAP in a patient with severe penicillin allergy?\",\n",
    "\n",
    "    # hospital-acquired / ventilator-associated pneumonia (HAP/VAP)\n",
    "    \"What empiric coverage is advised for hospital-acquired pneumonia when MRSA risk factors are present?\",\n",
    "    \"First-line IV therapy for severe CAP requiring ICU admission with pseudomonal risk?\",\n",
    "    \"Role of local antibiogram data in selecting empiric therapy for ventilator-associated pneumonia?\",\n",
    "\n",
    "    # special situations\n",
    "    \"When should azithromycin dose be adjusted in moderate renal impairment?\",\n",
    "    \"Preferred outpatient therapy for CAP in a pregnant patient during the second trimester?\",\n",
    "    \"How does the guideline differ for treating aspiration pneumonia with anaerobic coverage?\",\n",
    "    \"Recommended approach if a patient remains febrile after 48 h of appropriate CAP therapy?\",\n",
    "]\n",
    "\n",
    "samples = [\n",
    "    SingleTurnSample(\n",
    "        id=f\"q{i}\",\n",
    "        user_input=q,     # the question\n",
    "        answer=None,      # use real answers if you have them\n",
    "        contexts=[],      # and real citational chunks if you have them\n",
    "    )\n",
    "    for i, q in enumerate(pneumonia_questions)\n",
    "]\n",
    "\n",
    "eval_ds = EvaluationDataset(samples)  \n",
    "\n"
   ]
  },
  {
   "cell_type": "code",
   "execution_count": null,
   "id": "ef47bc4d",
   "metadata": {},
   "outputs": [],
   "source": [
    "from ragas.metrics import Faithfulness, AnswerRelevancy\n",
    "from ragas.llms    import LlamaIndexLLMWrapper\n",
    "from llama_index.llms.openai import OpenAI\n",
    "from ragas.integrations.llama_index import evaluate\n",
    "\n",
    "judge   = LlamaIndexLLMWrapper(OpenAI(model=\"gpt-4o-2024-11-20\", temperature=0))\n",
    "metrics = [Faithfulness(llm=judge), AnswerRelevancy(llm=judge)]\n",
    "\n",
    "scores = evaluate(\n",
    "    query_engine=query_engine_reranker,\n",
    "    metrics=metrics,\n",
    "    dataset=eval_ds, \n",
    ")"
   ]
  },
  {
   "cell_type": "code",
   "execution_count": 61,
   "id": "093168ad",
   "metadata": {},
   "outputs": [
    {
     "data": {
      "text/plain": [
       "{'faithfulness': 0.5083, 'answer_relevancy': 0.7244}"
      ]
     },
     "execution_count": 61,
     "metadata": {},
     "output_type": "execute_result"
    }
   ],
   "source": [
    "scores"
   ]
  },
  {
   "cell_type": "code",
   "execution_count": 62,
   "id": "e47d30ce",
   "metadata": {},
   "outputs": [
    {
     "data": {
      "text/html": [
       "<div>\n",
       "<style scoped>\n",
       "    .dataframe tbody tr th:only-of-type {\n",
       "        vertical-align: middle;\n",
       "    }\n",
       "\n",
       "    .dataframe tbody tr th {\n",
       "        vertical-align: top;\n",
       "    }\n",
       "\n",
       "    .dataframe thead th {\n",
       "        text-align: right;\n",
       "    }\n",
       "</style>\n",
       "<table border=\"1\" class=\"dataframe\">\n",
       "  <thead>\n",
       "    <tr style=\"text-align: right;\">\n",
       "      <th></th>\n",
       "      <th>user_input</th>\n",
       "      <th>retrieved_contexts</th>\n",
       "      <th>response</th>\n",
       "      <th>faithfulness</th>\n",
       "      <th>answer_relevancy</th>\n",
       "    </tr>\n",
       "  </thead>\n",
       "  <tbody>\n",
       "    <tr>\n",
       "      <th>0</th>\n",
       "      <td>What is the first-line antibiotic regimen for ...</td>\n",
       "      <td>[The IDSA guidelines regarding treatment for U...</td>\n",
       "      <td>The first-line antibiotic regimen for outpatie...</td>\n",
       "      <td>1.000000</td>\n",
       "      <td>1.000000</td>\n",
       "    </tr>\n",
       "    <tr>\n",
       "      <th>1</th>\n",
       "      <td>When is dual therapy with a β-lactam plus macr...</td>\n",
       "      <td>[Beta-lactams were the regimens most commonly ...</td>\n",
       "      <td>The provided information does not address the ...</td>\n",
       "      <td>1.000000</td>\n",
       "      <td>0.000000</td>\n",
       "    </tr>\n",
       "    <tr>\n",
       "      <th>2</th>\n",
       "      <td>Recommended duration of therapy for uncomplica...</td>\n",
       "      <td>[Duration of antibiotic therapy. The Norwegian...</td>\n",
       "      <td>The recommended duration of therapy for uncomp...</td>\n",
       "      <td>0.500000</td>\n",
       "      <td>0.976710</td>\n",
       "    </tr>\n",
       "    <tr>\n",
       "      <th>3</th>\n",
       "      <td>How does recommended empiric therapy change fo...</td>\n",
       "      <td>[Despite the many factors determining the empi...</td>\n",
       "      <td>In regions with more than 25% macrolide-resist...</td>\n",
       "      <td>0.333333</td>\n",
       "      <td>0.951800</td>\n",
       "    </tr>\n",
       "    <tr>\n",
       "      <th>4</th>\n",
       "      <td>Which respiratory fluoroquinolones are accepta...</td>\n",
       "      <td>[These risk factors are associated with an inc...</td>\n",
       "      <td>Respiratory fluoroquinolones, such as levoflox...</td>\n",
       "      <td>0.000000</td>\n",
       "      <td>0.933421</td>\n",
       "    </tr>\n",
       "    <tr>\n",
       "      <th>5</th>\n",
       "      <td>What empiric coverage is advised for hospital-...</td>\n",
       "      <td>[Since they are mostly MDR pathogens, providin...</td>\n",
       "      <td>When MRSA risk factors are present in hospital...</td>\n",
       "      <td>1.000000</td>\n",
       "      <td>0.974234</td>\n",
       "    </tr>\n",
       "    <tr>\n",
       "      <th>6</th>\n",
       "      <td>First-line IV therapy for severe CAP requiring...</td>\n",
       "      <td>[18 Patients who present to the ED for care ar...</td>\n",
       "      <td>For severe community-acquired pneumonia (CAP) ...</td>\n",
       "      <td>0.000000</td>\n",
       "      <td>0.972747</td>\n",
       "    </tr>\n",
       "    <tr>\n",
       "      <th>7</th>\n",
       "      <td>Role of local antibiogram data in selecting em...</td>\n",
       "      <td>[The control arm is standard care, which consi...</td>\n",
       "      <td>Local antibiogram data plays a critical role i...</td>\n",
       "      <td>0.000000</td>\n",
       "      <td>0.960790</td>\n",
       "    </tr>\n",
       "    <tr>\n",
       "      <th>8</th>\n",
       "      <td>When should azithromycin dose be adjusted in m...</td>\n",
       "      <td>[Dose adjustment is routinely recommended in p...</td>\n",
       "      <td>The provided information does not specifically...</td>\n",
       "      <td>0.600000</td>\n",
       "      <td>0.000000</td>\n",
       "    </tr>\n",
       "    <tr>\n",
       "      <th>9</th>\n",
       "      <td>Preferred outpatient therapy for CAP in a preg...</td>\n",
       "      <td>[It should therefore be offered to all women w...</td>\n",
       "      <td>The preferred outpatient therapy for community...</td>\n",
       "      <td>0.000000</td>\n",
       "      <td>0.963915</td>\n",
       "    </tr>\n",
       "    <tr>\n",
       "      <th>10</th>\n",
       "      <td>How does the guideline differ for treating asp...</td>\n",
       "      <td>[We found similar approaches to clinical and r...</td>\n",
       "      <td>The provided information does not specifically...</td>\n",
       "      <td>1.000000</td>\n",
       "      <td>0.000000</td>\n",
       "    </tr>\n",
       "    <tr>\n",
       "      <th>11</th>\n",
       "      <td>Recommended approach if a patient remains febr...</td>\n",
       "      <td>[After 14 days of treatment, the patients pers...</td>\n",
       "      <td>If a patient remains febrile after 48 hours of...</td>\n",
       "      <td>0.666667</td>\n",
       "      <td>0.959551</td>\n",
       "    </tr>\n",
       "  </tbody>\n",
       "</table>\n",
       "</div>"
      ],
      "text/plain": [
       "                                           user_input  \\\n",
       "0   What is the first-line antibiotic regimen for ...   \n",
       "1   When is dual therapy with a β-lactam plus macr...   \n",
       "2   Recommended duration of therapy for uncomplica...   \n",
       "3   How does recommended empiric therapy change fo...   \n",
       "4   Which respiratory fluoroquinolones are accepta...   \n",
       "5   What empiric coverage is advised for hospital-...   \n",
       "6   First-line IV therapy for severe CAP requiring...   \n",
       "7   Role of local antibiogram data in selecting em...   \n",
       "8   When should azithromycin dose be adjusted in m...   \n",
       "9   Preferred outpatient therapy for CAP in a preg...   \n",
       "10  How does the guideline differ for treating asp...   \n",
       "11  Recommended approach if a patient remains febr...   \n",
       "\n",
       "                                   retrieved_contexts  \\\n",
       "0   [The IDSA guidelines regarding treatment for U...   \n",
       "1   [Beta-lactams were the regimens most commonly ...   \n",
       "2   [Duration of antibiotic therapy. The Norwegian...   \n",
       "3   [Despite the many factors determining the empi...   \n",
       "4   [These risk factors are associated with an inc...   \n",
       "5   [Since they are mostly MDR pathogens, providin...   \n",
       "6   [18 Patients who present to the ED for care ar...   \n",
       "7   [The control arm is standard care, which consi...   \n",
       "8   [Dose adjustment is routinely recommended in p...   \n",
       "9   [It should therefore be offered to all women w...   \n",
       "10  [We found similar approaches to clinical and r...   \n",
       "11  [After 14 days of treatment, the patients pers...   \n",
       "\n",
       "                                             response  faithfulness  \\\n",
       "0   The first-line antibiotic regimen for outpatie...      1.000000   \n",
       "1   The provided information does not address the ...      1.000000   \n",
       "2   The recommended duration of therapy for uncomp...      0.500000   \n",
       "3   In regions with more than 25% macrolide-resist...      0.333333   \n",
       "4   Respiratory fluoroquinolones, such as levoflox...      0.000000   \n",
       "5   When MRSA risk factors are present in hospital...      1.000000   \n",
       "6   For severe community-acquired pneumonia (CAP) ...      0.000000   \n",
       "7   Local antibiogram data plays a critical role i...      0.000000   \n",
       "8   The provided information does not specifically...      0.600000   \n",
       "9   The preferred outpatient therapy for community...      0.000000   \n",
       "10  The provided information does not specifically...      1.000000   \n",
       "11  If a patient remains febrile after 48 hours of...      0.666667   \n",
       "\n",
       "    answer_relevancy  \n",
       "0           1.000000  \n",
       "1           0.000000  \n",
       "2           0.976710  \n",
       "3           0.951800  \n",
       "4           0.933421  \n",
       "5           0.974234  \n",
       "6           0.972747  \n",
       "7           0.960790  \n",
       "8           0.000000  \n",
       "9           0.963915  \n",
       "10          0.000000  \n",
       "11          0.959551  "
      ]
     },
     "execution_count": 62,
     "metadata": {},
     "output_type": "execute_result"
    }
   ],
   "source": [
    "scores_df = scores.to_pandas()\n",
    "scores_df"
   ]
  },
  {
   "cell_type": "markdown",
   "id": "157d38ff",
   "metadata": {},
   "source": [
    "Now we can use these initial result to identify questions that are potentially problematic or questions that should result in high confidence\n",
    "\n",
    "# Define safety checks\n",
    "## 1. Simple source attribution for attribution scoring"
   ]
  },
  {
   "cell_type": "code",
   "execution_count": 108,
   "id": "19e762b7",
   "metadata": {},
   "outputs": [],
   "source": [
    "def check_answer_support(answer, source_chunks, encoder, DEBUG_MODE=False):\n",
    "    \"\"\"\n",
    "    Simple function to check how well an answer is supported by source chunks\n",
    "    \"\"\"\n",
    "    def debug_print(*args, **kwargs):\n",
    "        \"\"\"Print only if DEBUG_MODE is enabled.\"\"\"\n",
    "        if DEBUG_MODE:\n",
    "            print(*args, **kwargs)\n",
    "    \n",
    "    # Split answer into sentences\n",
    "    sentences = re.split(r'[.!?]+', answer)\n",
    "    sentences = [s.strip() for s in sentences if s.strip()]\n",
    "    \n",
    "    if not sentences or not source_chunks:\n",
    "        return 0.0, []\n",
    "    \n",
    "    debug_print(f\"Checking {len(sentences)} sentences against {len(source_chunks)} source chunks\")\n",
    "    \n",
    "    # Encode sentences and sources\n",
    "    answer_embeddings = encoder.encode(sentences)\n",
    "    source_embeddings = encoder.encode(source_chunks)\n",
    "    \n",
    "    sentence_scores = []\n",
    "    \n",
    "    for i, answer_emb in enumerate(answer_embeddings):\n",
    "        # Find best matching source for each sentence\n",
    "        similarities = cosine_similarity([answer_emb], source_embeddings)[0]\n",
    "        best_score = np.max(similarities)\n",
    "        sentence_scores.append(best_score)\n",
    "        \n",
    "        debug_print(f\"Sentence {i+1}: '{sentences[i][:50]}...' -> Score: {best_score:.3f}\")\n",
    "    \n",
    "    overall_score = np.mean(sentence_scores)\n",
    "    return overall_score, sentence_scores\n",
    "\n"
   ]
  },
  {
   "cell_type": "code",
   "execution_count": 64,
   "id": "7a5ebd89",
   "metadata": {},
   "outputs": [
    {
     "data": {
      "text/plain": [
       "'Preferred outpatient therapy for CAP in a pregnant patient during the second trimester?'"
      ]
     },
     "execution_count": 64,
     "metadata": {},
     "output_type": "execute_result"
    }
   ],
   "source": [
    "# Let's find a test question that had a score of 0 for faithfulness:\n",
    "scores_df['user_input'][9]"
   ]
  },
  {
   "cell_type": "code",
   "execution_count": null,
   "id": "784bef09",
   "metadata": {},
   "outputs": [],
   "source": [
    "embed_model = \"pritamdeka/BioBERT-mnli-snli-scinli-scitail-mednli-stsb\"\n",
    "encoder = SentenceTransformer(embed_model)\n",
    "\n",
    "# Try the system using the reranker\n",
    "hard_question = \"Preferred outpatient therapy for CAP in a pregnant patient during the second trimester?\"\n",
    "response = query_engine_reranker.query(hard_question)"
   ]
  },
  {
   "cell_type": "code",
   "execution_count": 66,
   "id": "2cad3146",
   "metadata": {},
   "outputs": [
    {
     "name": "stdout",
     "output_type": "stream",
     "text": [
      "=== ATTRIBUTION CHECK ===\n",
      "Checking 3 sentences against 4 source chunks\n",
      "Sentence 1: 'The preferred outpatient therapy for community-acq...' -> Score: 0.558\n",
      "Sentence 2: 'Options may include beta-lactams such as amoxicill...' -> Score: 0.285\n",
      "Sentence 3: 'The choice of therapy should consider the safety p...' -> Score: 0.461\n",
      "\n",
      "Overall Attribution Score: 0.435\n",
      "Interpretation: Weak support - potential hallucination\n"
     ]
    }
   ],
   "source": [
    "# Extract the answer and source chunks\n",
    "answer = response.response\n",
    "source_chunks = [node.text for node in response.source_nodes]\n",
    "\n",
    "print(\"=== ATTRIBUTION CHECK ===\")\n",
    "overall_score, sentence_scores = check_answer_support(answer, source_chunks, encoder)\n",
    "print(f\"\\nOverall Attribution Score: {overall_score:.3f}\")\n",
    "print(f\"Interpretation: {'Good support' if overall_score > 0.6 else 'Weak support - potential hallucination'}\")"
   ]
  },
  {
   "cell_type": "code",
   "execution_count": 74,
   "id": "aa1bb802",
   "metadata": {},
   "outputs": [],
   "source": [
    "# Define a helper function to display the responses\n",
    "from IPython.display import Markdown, display\n",
    "import textwrap\n",
    "\n",
    "def print_response_pretty(response, wrap_width=100):\n",
    "    \"\"\"Nicely format and display model responses in a notebook\"\"\"\n",
    "    wrapped = textwrap.fill(response.strip(), width=wrap_width)\n",
    "    display(Markdown(f\"**Response:**\\n\\n```\\n{wrapped}\\n```\"))"
   ]
  },
  {
   "cell_type": "code",
   "execution_count": 76,
   "id": "efc7c325",
   "metadata": {},
   "outputs": [
    {
     "data": {
      "text/markdown": [
       "**Response:**\n",
       "\n",
       "```\n",
       "The preferred outpatient therapy for community-acquired pneumonia (CAP) in a pregnant patient during\n",
       "the second trimester typically includes antibiotics that are safe for use during pregnancy. Options\n",
       "may include beta-lactams such as amoxicillin or amoxicillin-clavulanate, and macrolides like\n",
       "azithromycin if atypical pathogens are suspected. The choice of therapy should consider the safety\n",
       "profile of the medication for both the mother and the fetus, as well as the local antibiotic\n",
       "resistance patterns.\n",
       "```"
      ],
      "text/plain": [
       "<IPython.core.display.Markdown object>"
      ]
     },
     "metadata": {},
     "output_type": "display_data"
    }
   ],
   "source": [
    "print_response_pretty(answer)"
   ]
  },
  {
   "cell_type": "markdown",
   "id": "42ef770e",
   "metadata": {},
   "source": [
    "## Find potentially problematic sentences\n",
    "Uses the same mechanism as the attribution check (cosine similarity)"
   ]
  },
  {
   "cell_type": "code",
   "execution_count": 12,
   "id": "f9977097",
   "metadata": {},
   "outputs": [],
   "source": [
    "def find_weak_sentences(answer, source_chunks, threshold=0.5):\n",
    "    \"\"\"\n",
    "    Identify sentences that might be hallucinated (poorly supported by sources)\n",
    "    \"\"\"\n",
    "    sentences = re.split(r'[.!?]+', answer)\n",
    "    sentences = [s.strip() for s in sentences if s.strip()]\n",
    "    \n",
    "    if not sentences or not source_chunks:\n",
    "        return []\n",
    "    \n",
    "    # Get similarity scores\n",
    "    answer_embeddings = encoder.encode(sentences)\n",
    "    source_embeddings = encoder.encode(source_chunks)\n",
    "    \n",
    "    weak_sentences = []\n",
    "    \n",
    "    for i, answer_emb in enumerate(answer_embeddings):\n",
    "        similarities = cosine_similarity([answer_emb], source_embeddings)[0]\n",
    "        best_score = np.max(similarities)\n",
    "        \n",
    "        if best_score < threshold:\n",
    "            weak_sentences.append({\n",
    "                'sentence': sentences[i],\n",
    "                'score': best_score,\n",
    "                'index': i\n",
    "            })\n",
    "    \n",
    "    return weak_sentences"
   ]
  },
  {
   "cell_type": "code",
   "execution_count": 77,
   "id": "673fba49",
   "metadata": {},
   "outputs": [
    {
     "name": "stdout",
     "output_type": "stream",
     "text": [
      "Potentially unsupported sentences:\n",
      "- \"The preferred outpatient therapy for community-acquired pneumonia (CAP) in a pregnant patient during the second trimester typically includes antibiotics that are safe for use during pregnancy\" (score: 0.558)\n",
      "- \"Options may include beta-lactams such as amoxicillin or amoxicillin-clavulanate, and macrolides like azithromycin if atypical pathogens are suspected\" (score: 0.285)\n",
      "- \"The choice of therapy should consider the safety profile of the medication for both the mother and the fetus, as well as the local antibiotic resistance patterns\" (score: 0.461)\n"
     ]
    }
   ],
   "source": [
    "# Test the weak sentence detection \n",
    "weak_sentences = find_weak_sentences(answer, source_chunks, threshold=0.6)\n",
    "\n",
    "if weak_sentences:\n",
    "    print(\"Potentially unsupported sentences:\")\n",
    "    for weak in weak_sentences:\n",
    "        print(f\"- \\\"{weak['sentence']}\\\" (score: {weak['score']:.3f})\")\n",
    "else:\n",
    "    print(\"All sentences appear well-supported\")"
   ]
  },
  {
   "cell_type": "markdown",
   "id": "a5f085b8",
   "metadata": {},
   "source": [
    "None of the answer's 3 sentences is well supported by the chunks, which is another red flag\n",
    "## 2. Consistency checking"
   ]
  },
  {
   "cell_type": "code",
   "execution_count": null,
   "id": "1620afdf",
   "metadata": {},
   "outputs": [],
   "source": [
    "def check_consistency(question, query_engine, num_tries=3, DEBUG_MODE=False):\n",
    "    \"\"\"\n",
    "    Ask the same question multiple times and check for consistency\n",
    "    \"\"\"\n",
    "\n",
    "    def debug_print(*args, **kwargs):\n",
    "        \"\"\"Print only if DEBUG_MODE is enabled.\"\"\"\n",
    "        if DEBUG_MODE:\n",
    "            print(*args, **kwargs)\n",
    "\n",
    "    debug_print(f\"Asking the same question {num_tries} times...\")\n",
    "    responses = []\n",
    "    \n",
    "    for i in range(num_tries):\n",
    "        debug_print(f\"Attempt {i+1}...\")\n",
    "        response = query_engine.query(question)\n",
    "        responses.append(response.response)\n",
    "        time.sleep(1)  # Brief pause between queries\n",
    "    \n",
    "    # Show all responses\n",
    "    debug_print(\"\\n=== ALL RESPONSES ===\")\n",
    "    for i, resp in enumerate(responses):\n",
    "        debug_print(f\"Response {i+1}: {resp[:100]}...\")\n",
    "        debug_print()\n",
    "    \n",
    "    # Calculate similarity between responses\n",
    "    if len(responses) >= 2:\n",
    "        response_embeddings = encoder.encode(responses)\n",
    "        \n",
    "        similarities = []\n",
    "        for i in range(len(response_embeddings)):\n",
    "            for j in range(i + 1, len(response_embeddings)):\n",
    "                sim = cosine_similarity([response_embeddings[i]], [response_embeddings[j]])[0][0]\n",
    "                similarities.append(sim)\n",
    "                debug_print(f\"Similarity between response {i+1} and {j+1}: {sim:.3f}\")\n",
    "        \n",
    "        avg_similarity = np.mean(similarities)\n",
    "        print(f\"\\nAverage consistency score: {avg_similarity:.3f}\")\n",
    "        \n",
    "        if avg_similarity > 0.8:\n",
    "            print(\"High consistency - responses are very similar\")\n",
    "        elif avg_similarity > 0.6:\n",
    "            print(\"Moderate consistency - some variation\")\n",
    "        else:\n",
    "            print(\"Low consistency - significant differences (potential hallucination risk)\")\n",
    "        \n",
    "        return avg_similarity, responses\n",
    "    \n",
    "    return 1.0, responses\n"
   ]
  },
  {
   "cell_type": "code",
   "execution_count": 80,
   "id": "df034d21",
   "metadata": {},
   "outputs": [
    {
     "name": "stdout",
     "output_type": "stream",
     "text": [
      "Asking the same question 3 times...\n",
      "Similarity between response 1 and 2: 0.955\n",
      "Similarity between response 1 and 3: 0.989\n",
      "Similarity between response 2 and 3: 0.953\n",
      "\n",
      "Average consistency score: 0.966\n",
      "High consistency - responses are very similar\n"
     ]
    }
   ],
   "source": [
    "# Test consistency\n",
    "consistency_score, all_responses = check_consistency(hard_question, query_engine_reranker)"
   ]
  },
  {
   "cell_type": "markdown",
   "id": "97acec08",
   "metadata": {},
   "source": [
    "## 3. Semantic Entropy measurement"
   ]
  },
  {
   "cell_type": "code",
   "execution_count": null,
   "id": "426b00c5",
   "metadata": {},
   "outputs": [],
   "source": [
    "import numpy as np\n",
    "from collections import Counter\n",
    "import math\n",
    "\n",
    "def calculate_semantic_entropy(question, query_engine, encoder, num_samples=5, temperature=0.8, DEBUG_MODE=False):\n",
    "   \"\"\"\n",
    "   Calculate semantic entropy to detect hallucination uncertainty\n",
    "   Higher entropy = more uncertainty = higher hallucination risk\n",
    "   \"\"\"\n",
    "   def debug_print(*args, **kwargs):\n",
    "        \"\"\"Print only if DEBUG_MODE is enabled.\"\"\"\n",
    "        if DEBUG_MODE:\n",
    "            print(*args, **kwargs)\n",
    "            \n",
    "   debug_print(f\"CALCULATING SEMANTIC ENTROPY\")\n",
    "   debug_print(f\"Generating {num_samples} responses with temperature={temperature}\")\n",
    "   \n",
    "   # Generate multiple responses with higher temperature for diversity\n",
    "   responses = []\n",
    "   for i in range(num_samples):\n",
    "       # Temporarily increase temperature for diversity\n",
    "       original_temp = llm.temperature if hasattr(llm, 'temperature') else 0.1\n",
    "       if hasattr(llm, 'temperature'):\n",
    "           llm.temperature = temperature\n",
    "       \n",
    "       response = query_engine.query(question)\n",
    "       responses.append(response.response)\n",
    "       \n",
    "       # Restore original temperature\n",
    "       if hasattr(llm, 'temperature'):\n",
    "           llm.temperature = original_temp\n",
    "       \n",
    "       debug_print(f\"Response {i+1}: {response.response[:80]}...\")\n",
    "   \n",
    "   # Sentence-level semantic clustering\n",
    "   semantic_entropy = calculate_sentence_semantic_entropy(responses, encoder)\n",
    "   \n",
    "   # Interpretation\n",
    "   if semantic_entropy > 2.0:\n",
    "       interpretation = \"HIGH uncertainty - likely hallucination\"\n",
    "       confidence = \"LOW\"\n",
    "   elif semantic_entropy > 1.0:\n",
    "       interpretation = \"MEDIUM uncertainty - review recommended\"\n",
    "       confidence = \"MEDIUM\"\n",
    "   else:\n",
    "       interpretation = \"LOW uncertainty - confident answer\"\n",
    "       confidence = \"HIGH\"\n",
    "   \n",
    "   print(f\"\\nSemantic Entropy Score: {semantic_entropy:.3f}\")\n",
    "   print(f\"Interpretation: {interpretation}\")\n",
    "   \n",
    "   return {\n",
    "       'semantic_entropy': semantic_entropy,\n",
    "       'responses': responses,\n",
    "       'interpretation': interpretation,\n",
    "       'high_uncertainty': semantic_entropy > 1.5,\n",
    "       'confidence': confidence\n",
    "   }\n",
    "\n",
    "def calculate_sentence_semantic_entropy(responses, encoder):\n",
    "   \"\"\"Calculate entropy based on semantic clustering of sentences\"\"\"\n",
    "   \n",
    "   # Extract all sentences from all responses\n",
    "   all_sentences = []\n",
    "   for response in responses:\n",
    "       sentences = re.split(r'[.!?]+', response)\n",
    "       sentences = [s.strip() for s in sentences if s.strip() and len(s) > 10]\n",
    "       all_sentences.extend(sentences)\n",
    "   \n",
    "   if len(all_sentences) < 2:\n",
    "       return 0.0\n",
    "   \n",
    "   # Encode sentences\n",
    "   #encoder = SentenceTransformer(\"all-MiniLM-L6-v2\")\n",
    "   embeddings = encoder.encode(all_sentences)\n",
    "   \n",
    "   # Simple clustering based on similarity threshold\n",
    "   clusters = []\n",
    "   used_indices = set()\n",
    "   similarity_threshold = 0.7\n",
    "   \n",
    "   for i, emb_i in enumerate(embeddings):\n",
    "       if i in used_indices:\n",
    "           continue\n",
    "           \n",
    "       cluster = [i]\n",
    "       used_indices.add(i)\n",
    "       \n",
    "       for j, emb_j in enumerate(embeddings):\n",
    "           if j <= i or j in used_indices:\n",
    "               continue\n",
    "               \n",
    "           similarity = cosine_similarity([emb_i], [emb_j])[0][0]\n",
    "           if similarity > similarity_threshold:\n",
    "               cluster.append(j)\n",
    "               used_indices.add(j)\n",
    "       \n",
    "       clusters.append(cluster)\n",
    "   \n",
    "   # Calculate entropy based on cluster sizes\n",
    "   cluster_sizes = [len(cluster) for cluster in clusters]\n",
    "   total_sentences = len(all_sentences)\n",
    "   \n",
    "   # Calculate Shannon entropy\n",
    "   entropy = 0.0\n",
    "   for size in cluster_sizes:\n",
    "       prob = size / total_sentences\n",
    "       if prob > 0:\n",
    "           entropy -= prob * math.log2(prob)\n",
    "   \n",
    "   return entropy"
   ]
  },
  {
   "cell_type": "code",
   "execution_count": 82,
   "id": "def964ad",
   "metadata": {},
   "outputs": [
    {
     "name": "stdout",
     "output_type": "stream",
     "text": [
      "\n",
      "Semantic Entropy Score: 2.375\n",
      "Interpretation: HIGH uncertainty - likely hallucination\n"
     ]
    }
   ],
   "source": [
    "# Test with your query engine\n",
    "entropy_result = calculate_semantic_entropy(hard_question, query_engine_reranker, encoder, num_samples=4)"
   ]
  },
  {
   "cell_type": "code",
   "execution_count": 83,
   "id": "3be440b3",
   "metadata": {},
   "outputs": [
    {
     "data": {
      "text/plain": [
       "{'semantic_entropy': 2.374556048381884,\n",
       " 'responses': ['The preferred outpatient therapy for community-acquired pneumonia (CAP) in a pregnant patient during the second trimester typically includes the use of antibiotics that are safe in pregnancy. Options may include a beta-lactam antibiotic (such as amoxicillin or amoxicillin-clavulanate) combined with a macrolide (such as azithromycin) if atypical pathogens are suspected. Alternatively, monotherapy with a macrolide like azithromycin might be considered in patients without significant comorbidities or risks for resistant pathogens. The choice of treatment should prioritize the safety of both the mother and fetus while addressing the likely pathogens. Always consult with a healthcare provider for the most appropriate therapy.',\n",
       "  'The preferred outpatient therapy for community-acquired pneumonia (CAP) in a pregnant patient during the second trimester should prioritize medications that are safe for both the mother and the fetus. Beta-lactams (such as amoxicillin or amoxicillin-clavulanate) are generally considered safe and effective. If atypical pathogens are suspected, macrolides like azithromycin are commonly used due to their safety in pregnancy. Therapy should always be guided by clinical presentation, local resistance patterns, and consultation with a healthcare provider.',\n",
       "  'The preferred outpatient therapy for community-acquired pneumonia (CAP) in a pregnant patient during the second trimester is typically a beta-lactam antibiotic like amoxicillin, or a combination of a beta-lactam with a macrolide (e.g., azithromycin) if atypical pathogens are suspected. Antibiotics should always be chosen with consideration for safety during pregnancy and the specific clinical scenario.',\n",
       "  'The preferred outpatient therapy for community-acquired pneumonia (CAP) in a pregnant patient during the second trimester typically includes antibiotics that are safe for use during pregnancy. Options such as beta-lactams (e.g., amoxicillin or amoxicillin-clavulanate) and macrolides (e.g., azithromycin) are often recommended, depending on the presence of risk factors or comorbidities. These antibiotics are generally considered safe and effective for treating CAP in pregnancy.'],\n",
       " 'interpretation': 'HIGH uncertainty - likely hallucination',\n",
       " 'high_uncertainty': True,\n",
       " 'confidence': 'LOW'}"
      ]
     },
     "execution_count": 83,
     "metadata": {},
     "output_type": "execute_result"
    }
   ],
   "source": [
    "entropy_result"
   ]
  },
  {
   "cell_type": "code",
   "execution_count": 84,
   "id": "94bac6b7",
   "metadata": {},
   "outputs": [],
   "source": [
    "# Let's print all responses in a readable way\n",
    "def print_responses_pretty(responses, wrap_width=100):\n",
    "    \"\"\"Nicely format and display model responses in a notebook\"\"\"\n",
    "    for i, r in enumerate(responses, 1):\n",
    "        wrapped = textwrap.fill(r.strip(), width=wrap_width)\n",
    "        display(Markdown(f\"**Response {i}:**\\n\\n```\\n{wrapped}\\n```\"))\n"
   ]
  },
  {
   "cell_type": "code",
   "execution_count": 85,
   "id": "baa9ef9d",
   "metadata": {},
   "outputs": [
    {
     "data": {
      "text/markdown": [
       "**Response 1:**\n",
       "\n",
       "```\n",
       "The preferred outpatient therapy for community-acquired pneumonia (CAP) in a pregnant patient during\n",
       "the second trimester typically includes the use of antibiotics that are safe in pregnancy. Options\n",
       "may include a beta-lactam antibiotic (such as amoxicillin or amoxicillin-clavulanate) combined with\n",
       "a macrolide (such as azithromycin) if atypical pathogens are suspected. Alternatively, monotherapy\n",
       "with a macrolide like azithromycin might be considered in patients without significant comorbidities\n",
       "or risks for resistant pathogens. The choice of treatment should prioritize the safety of both the\n",
       "mother and fetus while addressing the likely pathogens. Always consult with a healthcare provider\n",
       "for the most appropriate therapy.\n",
       "```"
      ],
      "text/plain": [
       "<IPython.core.display.Markdown object>"
      ]
     },
     "metadata": {},
     "output_type": "display_data"
    },
    {
     "data": {
      "text/markdown": [
       "**Response 2:**\n",
       "\n",
       "```\n",
       "The preferred outpatient therapy for community-acquired pneumonia (CAP) in a pregnant patient during\n",
       "the second trimester should prioritize medications that are safe for both the mother and the fetus.\n",
       "Beta-lactams (such as amoxicillin or amoxicillin-clavulanate) are generally considered safe and\n",
       "effective. If atypical pathogens are suspected, macrolides like azithromycin are commonly used due\n",
       "to their safety in pregnancy. Therapy should always be guided by clinical presentation, local\n",
       "resistance patterns, and consultation with a healthcare provider.\n",
       "```"
      ],
      "text/plain": [
       "<IPython.core.display.Markdown object>"
      ]
     },
     "metadata": {},
     "output_type": "display_data"
    },
    {
     "data": {
      "text/markdown": [
       "**Response 3:**\n",
       "\n",
       "```\n",
       "The preferred outpatient therapy for community-acquired pneumonia (CAP) in a pregnant patient during\n",
       "the second trimester is typically a beta-lactam antibiotic like amoxicillin, or a combination of a\n",
       "beta-lactam with a macrolide (e.g., azithromycin) if atypical pathogens are suspected. Antibiotics\n",
       "should always be chosen with consideration for safety during pregnancy and the specific clinical\n",
       "scenario.\n",
       "```"
      ],
      "text/plain": [
       "<IPython.core.display.Markdown object>"
      ]
     },
     "metadata": {},
     "output_type": "display_data"
    },
    {
     "data": {
      "text/markdown": [
       "**Response 4:**\n",
       "\n",
       "```\n",
       "The preferred outpatient therapy for community-acquired pneumonia (CAP) in a pregnant patient during\n",
       "the second trimester typically includes antibiotics that are safe for use during pregnancy. Options\n",
       "such as beta-lactams (e.g., amoxicillin or amoxicillin-clavulanate) and macrolides (e.g.,\n",
       "azithromycin) are often recommended, depending on the presence of risk factors or comorbidities.\n",
       "These antibiotics are generally considered safe and effective for treating CAP in pregnancy.\n",
       "```"
      ],
      "text/plain": [
       "<IPython.core.display.Markdown object>"
      ]
     },
     "metadata": {},
     "output_type": "display_data"
    }
   ],
   "source": [
    "print_responses_pretty(entropy_result['responses'])"
   ]
  },
  {
   "cell_type": "code",
   "execution_count": 87,
   "id": "2831774b",
   "metadata": {},
   "outputs": [
    {
     "data": {
      "text/plain": [
       "'What is the first-line antibiotic regimen for outpatient treatment of uncomplicated community-acquired bacterial pneumonia in an adult with no comorbidities?'"
      ]
     },
     "execution_count": 87,
     "metadata": {},
     "output_type": "execute_result"
    }
   ],
   "source": [
    "# Let's try on a question that had a high faithfulness and high relevancy\n",
    "scores_df['user_input'][0]"
   ]
  },
  {
   "cell_type": "code",
   "execution_count": 88,
   "id": "35a9a648",
   "metadata": {},
   "outputs": [
    {
     "name": "stdout",
     "output_type": "stream",
     "text": [
      "\n",
      "Semantic Entropy Score: 0.000\n",
      "Interpretation: LOW uncertainty - confident answer\n"
     ]
    }
   ],
   "source": [
    "# Test semantic entropy on a sample question\n",
    "sample_question = \"What is the first-line antibiotic regimen for outpatient treatment of uncomplicated community-acquired bacterial pneumonia in an adult with no comorbidities?\"\n",
    "entropy_result_2 = calculate_semantic_entropy(sample_question, query_engine_reranker, encoder, num_samples=4)"
   ]
  },
  {
   "cell_type": "code",
   "execution_count": 90,
   "id": "6fb4096f",
   "metadata": {},
   "outputs": [
    {
     "data": {
      "text/markdown": [
       "**Response 1:**\n",
       "\n",
       "```\n",
       "The first-line antibiotic regimen for outpatient treatment of uncomplicated community-acquired\n",
       "bacterial pneumonia in an adult with no comorbidities includes oral amoxicillin, macrolides, or\n",
       "doxycycline.\n",
       "```"
      ],
      "text/plain": [
       "<IPython.core.display.Markdown object>"
      ]
     },
     "metadata": {},
     "output_type": "display_data"
    },
    {
     "data": {
      "text/markdown": [
       "**Response 2:**\n",
       "\n",
       "```\n",
       "The first-line antibiotic regimen for outpatient treatment of uncomplicated community-acquired\n",
       "bacterial pneumonia in an adult with no comorbidities includes oral amoxicillin, macrolides, or\n",
       "doxycycline.\n",
       "```"
      ],
      "text/plain": [
       "<IPython.core.display.Markdown object>"
      ]
     },
     "metadata": {},
     "output_type": "display_data"
    },
    {
     "data": {
      "text/markdown": [
       "**Response 3:**\n",
       "\n",
       "```\n",
       "The first-line antibiotic regimen for outpatient treatment of uncomplicated community-acquired\n",
       "bacterial pneumonia in an adult with no comorbidities includes oral amoxicillin, macrolides, or\n",
       "doxycycline.\n",
       "```"
      ],
      "text/plain": [
       "<IPython.core.display.Markdown object>"
      ]
     },
     "metadata": {},
     "output_type": "display_data"
    },
    {
     "data": {
      "text/markdown": [
       "**Response 4:**\n",
       "\n",
       "```\n",
       "The first-line antibiotic regimen for outpatient treatment of uncomplicated community-acquired\n",
       "bacterial pneumonia in an adult with no comorbidities includes oral amoxicillin, macrolides, or\n",
       "doxycycline.\n",
       "```"
      ],
      "text/plain": [
       "<IPython.core.display.Markdown object>"
      ]
     },
     "metadata": {},
     "output_type": "display_data"
    }
   ],
   "source": [
    "print_responses_pretty(entropy_result_2['responses'])"
   ]
  },
  {
   "cell_type": "code",
   "execution_count": 93,
   "id": "13a73141",
   "metadata": {},
   "outputs": [
    {
     "data": {
      "text/plain": [
       "'Recommended approach if a patient remains febrile after 48 h of appropriate CAP therapy?'"
      ]
     },
     "execution_count": 93,
     "metadata": {},
     "output_type": "execute_result"
    }
   ],
   "source": [
    "# Now, let's take a look at a question that had moderate scores using ragas\n",
    "scores_df['user_input'][11]"
   ]
  },
  {
   "cell_type": "code",
   "execution_count": 94,
   "id": "f5454395",
   "metadata": {},
   "outputs": [
    {
     "name": "stdout",
     "output_type": "stream",
     "text": [
      "\n",
      "Semantic Entropy Score: 2.425\n",
      "Interpretation: HIGH uncertainty - likely hallucination\n"
     ]
    }
   ],
   "source": [
    "moderate_score_question = \"Recommended approach if a patient remains febrile after 48 h of appropriate CAP therapy?\"\n",
    "entropy_result_3 = calculate_semantic_entropy(moderate_score_question, query_engine_reranker, encoder, num_samples=4)"
   ]
  },
  {
   "cell_type": "code",
   "execution_count": 95,
   "id": "cfd1609e",
   "metadata": {},
   "outputs": [
    {
     "data": {
      "text/markdown": [
       "**Response 1:**\n",
       "\n",
       "```\n",
       "If a patient remains febrile after 48 hours of appropriate therapy for community-acquired pneumonia\n",
       "(CAP), it is recommended to reassess the patient. This includes evaluating for potential\n",
       "complications, such as pleural effusion or abscess, through imaging studies like chest radiographs\n",
       "or ultrasounds. Additionally, laboratory markers such as C-reactive protein (CRP) and white blood\n",
       "cell counts can be useful in assessing ongoing infection or inflammation. A multidisciplinary\n",
       "discussion involving specialists, such as a pulmonologist or infectious disease expert, may also be\n",
       "considered to guide further management, including adjustments in therapy or additional\n",
       "interventions.\n",
       "```"
      ],
      "text/plain": [
       "<IPython.core.display.Markdown object>"
      ]
     },
     "metadata": {},
     "output_type": "display_data"
    },
    {
     "data": {
      "text/markdown": [
       "**Response 2:**\n",
       "\n",
       "```\n",
       "If a patient remains febrile after 48 hours of appropriate therapy for community-acquired pneumonia\n",
       "(CAP), it is recommended to reassess the clinical situation. This may involve evaluating for\n",
       "complications (e.g., pleural effusion, abscess), assessing adherence to the guideline-recommended\n",
       "therapy duration, and considering additional diagnostic investigations such as imaging (e.g., chest\n",
       "X-ray, CT scan) or laboratory tests (e.g., CRP, white blood cell count). Multidisciplinary\n",
       "discussions and adjustments to the treatment plan, such as extending therapy duration or addressing\n",
       "complications conservatively or invasively, may also be necessary based on findings.\n",
       "```"
      ],
      "text/plain": [
       "<IPython.core.display.Markdown object>"
      ]
     },
     "metadata": {},
     "output_type": "display_data"
    },
    {
     "data": {
      "text/markdown": [
       "**Response 3:**\n",
       "\n",
       "```\n",
       "If a patient remains febrile after 48 hours of appropriate therapy for community-acquired pneumonia\n",
       "(CAP), it is recommended to reassess the clinical situation. This could include evaluating for\n",
       "potential complications like pleural effusion or abscess formation, considering alternative\n",
       "diagnoses, and ensuring the choice of antibiotics aligns with current guidelines and susceptibility\n",
       "data. Imaging studies and further clinical or biochemical assessments, such as repeat chest\n",
       "radiographs, CRP levels, or white blood cell counts, could guide decisions on whether additional\n",
       "interventions, such as drainage procedures or a change in therapy, are necessary.\n",
       "```"
      ],
      "text/plain": [
       "<IPython.core.display.Markdown object>"
      ]
     },
     "metadata": {},
     "output_type": "display_data"
    },
    {
     "data": {
      "text/markdown": [
       "**Response 4:**\n",
       "\n",
       "```\n",
       "If a patient remains febrile after 48 hours of appropriate therapy for community-acquired pneumonia\n",
       "(CAP), the recommended approach includes evaluating clinical and biochemical factors such as\n",
       "persistent fever, rising C-reactive protein (CRP), or white blood cell count, as well as reviewing\n",
       "imaging results like chest radiographs or ultrasounds to assess for complications such as unresolved\n",
       "infections, pleural effusions, or abscesses. Additional diagnostic tests or adjustments to the\n",
       "treatment plan, such as extending therapy duration, changing antibiotics, or considering pleural\n",
       "interventions (e.g., thoracentesis or chest tube placement), may be needed based on the patient's\n",
       "clinical status. Multidisciplinary discussions can also be helpful for determining the most\n",
       "appropriate course of action.\n",
       "```"
      ],
      "text/plain": [
       "<IPython.core.display.Markdown object>"
      ]
     },
     "metadata": {},
     "output_type": "display_data"
    }
   ],
   "source": [
    "print_responses_pretty(entropy_result_3['responses'])"
   ]
  },
  {
   "cell_type": "markdown",
   "id": "c99eaf36",
   "metadata": {},
   "source": [
    "# Enhance the retrieval with multi-stage retrieval\n",
    "## 1. breakdown the query"
   ]
  },
  {
   "cell_type": "code",
   "execution_count": 96,
   "id": "4a490435",
   "metadata": {},
   "outputs": [],
   "source": [
    "def break_down_query(complex_question, llm, DEBUG_MODE=False):\n",
    "    \"\"\"\n",
    "    Break a complex medical question into simpler parts\n",
    "    \"\"\"\n",
    "    def debug_print(*args, **kwargs):\n",
    "        \"\"\"Print only if DEBUG_MODE is enabled.\"\"\"\n",
    "        if DEBUG_MODE:\n",
    "            print(*args, **kwargs)\n",
    "\n",
    "    prompt = f\"\"\"\n",
    "You are a medical librarian. Break down this complex medical question into 2-4 simpler, specific questions that together would provide a complete answer.\n",
    "\n",
    "Complex question: {complex_question}\n",
    "\n",
    "Provide the simpler questions as a numbered list:\n",
    "1. \n",
    "2. \n",
    "3. \n",
    "4. \n",
    "\"\"\"\n",
    "    \n",
    "    response = llm.complete(prompt)\n",
    "    debug_print(\"=== QUERY BREAKDOWN ===\")\n",
    "    debug_print(response.text)\n",
    "    \n",
    "    # Extract the sub-questions\n",
    "    lines = response.text.strip().split('\\n')\n",
    "    sub_questions = []\n",
    "    \n",
    "    for line in lines:\n",
    "        line = line.strip()\n",
    "        if line and (line[0].isdigit() or line.startswith('-')):\n",
    "            # Remove numbering\n",
    "            clean_question = re.sub(r'^[\\d\\-\\.\\)\\s]+', '', line).strip()\n",
    "            if clean_question:\n",
    "                sub_questions.append(clean_question)\n",
    "    \n",
    "    return sub_questions\n",
    "\n"
   ]
  },
  {
   "cell_type": "code",
   "execution_count": 97,
   "id": "3d39e397",
   "metadata": {},
   "outputs": [
    {
     "name": "stdout",
     "output_type": "stream",
     "text": [
      "\n",
      "Extracted 4 sub-questions:\n",
      "1. What are the common antibiotics that interact with warfarin?\n",
      "2. How do these antibiotics affect the pharmacokinetics or pharmacodynamics of warfarin?\n",
      "3. What are the specific risks or complications of warfarin-antibiotic interactions in elderly patients?\n",
      "4. How should warfarin dosing be adjusted when an elderly patient is prescribed antibiotics?\n"
     ]
    }
   ],
   "source": [
    "# Test with a complex medical question\n",
    "complex_question = \"What are the drug interactions between warfarin and antibiotics in elderly patients, and how should the dosing be adjusted?\"\n",
    "\n",
    "sub_questions = break_down_query(complex_question, llm)\n",
    "print(f\"\\nExtracted {len(sub_questions)} sub-questions:\")\n",
    "for i, q in enumerate(sub_questions):\n",
    "    print(f\"{i+1}. {q}\")"
   ]
  },
  {
   "cell_type": "markdown",
   "id": "88fcf909",
   "metadata": {},
   "source": [
    "## 2. Multi-stage information gathering"
   ]
  },
  {
   "cell_type": "code",
   "execution_count": 98,
   "id": "1ad3db27",
   "metadata": {},
   "outputs": [],
   "source": [
    "def multi_stage_retrieval(complex_question, query_engine, llm, DEBUG_MODE=False):\n",
    "    \"\"\"\n",
    "    Perform multi-stage retrieval for complex questions\n",
    "    \"\"\"\n",
    "    def debug_print(*args, **kwargs):\n",
    "        \"\"\"Print only if DEBUG_MODE is enabled.\"\"\"\n",
    "        if DEBUG_MODE:\n",
    "            print(*args, **kwargs)\n",
    "\n",
    "    debug_print(\"MULTI-STAGE RETRIEVAL\")\n",
    "    debug_print(\"=\" * 50)\n",
    "    \n",
    "    # Step 1: Break down the question\n",
    "    sub_questions = break_down_query(complex_question, llm)\n",
    "    \n",
    "    # Step 2: Get answers for each sub-question\n",
    "    sub_answers = []\n",
    "    all_sources = []\n",
    "    \n",
    "    for i, sub_q in enumerate(sub_questions):\n",
    "        debug_print(f\"\\n--- Sub-question {i+1}: {sub_q} ---\")\n",
    "        \n",
    "        response = query_engine.query(sub_q)\n",
    "        sub_answer = response.response\n",
    "        sources = response.source_nodes\n",
    "        \n",
    "        debug_print(f\"Answer: {sub_answer[:150]}...\")\n",
    "        \n",
    "        sub_answers.append({\n",
    "            'question': sub_q,\n",
    "            'answer': sub_answer,\n",
    "            'sources': sources\n",
    "        })\n",
    "        \n",
    "        # Collect unique sources\n",
    "        for source in sources:\n",
    "            if source.text not in [s.text for s in all_sources]:\n",
    "                all_sources.append(source)\n",
    "    \n",
    "    # Step 3: Synthesize final answer\n",
    "    debug_print(f\"\\nSYNTHESIZING FINAL ANSWER\")\n",
    "    context = \"\"\n",
    "    for i, sub in enumerate(sub_answers):\n",
    "        context += f\"Sub-question {i+1}: {sub['question']}\\n\"\n",
    "        context += f\"Answer: {sub['answer']}\\n\\n\"\n",
    "    \n",
    "    synthesis_prompt = f\"\"\"\n",
    "Based on the following information, provide a comprehensive answer to the original question.\n",
    "\n",
    "Original question: {complex_question}\n",
    "\n",
    "Information gathered:\n",
    "{context}\n",
    "\n",
    "Instructions:\n",
    "- Combine the information into one coherent answer\n",
    "- Only use the information provided above\n",
    "- If there are contradictions, mention them\n",
    "- Be specific and cite relevant details\n",
    "\n",
    "Comprehensive answer:\n",
    "\"\"\"\n",
    "    \n",
    "    final_response = llm.complete(synthesis_prompt)\n",
    "    final_answer = final_response.text\n",
    "    \n",
    "    debug_print(\"Final synthesized answer:\")\n",
    "    debug_print(final_answer)\n",
    "    \n",
    "    return {\n",
    "        'original_question': complex_question,\n",
    "        'sub_questions': sub_questions,\n",
    "        'sub_answers': sub_answers,\n",
    "        'final_answer': final_answer,\n",
    "        'all_sources': all_sources\n",
    "    }\n",
    "\n"
   ]
  },
  {
   "cell_type": "code",
   "execution_count": 99,
   "id": "3216139f",
   "metadata": {},
   "outputs": [],
   "source": [
    "# Test multi-stage retrieval\n",
    "multi_stage_result = multi_stage_retrieval(complex_question, query_engine_reranker, llm)"
   ]
  },
  {
   "cell_type": "code",
   "execution_count": 100,
   "id": "1a875436",
   "metadata": {},
   "outputs": [
    {
     "name": "stdout",
     "output_type": "stream",
     "text": [
      "\n",
      "Semantic Entropy Score: 2.000\n",
      "Interpretation: MEDIUM uncertainty - review recommended\n"
     ]
    }
   ],
   "source": [
    "entropy_result_multistage = calculate_semantic_entropy(complex_question, query_engine_reranker, encoder, num_samples=4)"
   ]
  },
  {
   "cell_type": "code",
   "execution_count": 101,
   "id": "232ceb7b",
   "metadata": {},
   "outputs": [
    {
     "data": {
      "text/markdown": [
       "**Response 1:**\n",
       "\n",
       "```\n",
       "The provided information does not discuss the specific drug interactions between warfarin and\n",
       "antibiotics in elderly patients or recommendations for dose adjustment. For accurate dosing and\n",
       "monitoring of interactions, particularly in elderly patients, consultation with healthcare\n",
       "professionals and individual patient assessment are essential.\n",
       "```"
      ],
      "text/plain": [
       "<IPython.core.display.Markdown object>"
      ]
     },
     "metadata": {},
     "output_type": "display_data"
    },
    {
     "data": {
      "text/markdown": [
       "**Response 2:**\n",
       "\n",
       "```\n",
       "The provided information does not address interactions between warfarin and antibiotics, nor does it\n",
       "provide specific guidance on dosing adjustments for such interactions in elderly patients. For\n",
       "information on this topic, it would be important to consult clinical guidelines or pharmacological\n",
       "resources specifically focused on drug interactions involving warfarin and antibiotics.\n",
       "```"
      ],
      "text/plain": [
       "<IPython.core.display.Markdown object>"
      ]
     },
     "metadata": {},
     "output_type": "display_data"
    },
    {
     "data": {
      "text/markdown": [
       "**Response 3:**\n",
       "\n",
       "```\n",
       "The provided information does not address the specific interactions between warfarin and antibiotics\n",
       "in elderly patients or how their dosing should be adjusted.\n",
       "```"
      ],
      "text/plain": [
       "<IPython.core.display.Markdown object>"
      ]
     },
     "metadata": {},
     "output_type": "display_data"
    },
    {
     "data": {
      "text/markdown": [
       "**Response 4:**\n",
       "\n",
       "```\n",
       "The provided information does not specifically address the interactions between warfarin and\n",
       "antibiotics in elderly patients or provide guidance on dosing adjustments. It discusses issues\n",
       "related to augmented renal clearance (ARC) and the pharmacokinetic and pharmacodynamic\n",
       "considerations of antibiotics in critically ill patients, but it does not explore warfarin or its\n",
       "interactions with antibiotics. For accurate guidance, consulting clinical guidelines or a healthcare\n",
       "professional is recommended.\n",
       "```"
      ],
      "text/plain": [
       "<IPython.core.display.Markdown object>"
      ]
     },
     "metadata": {},
     "output_type": "display_data"
    }
   ],
   "source": [
    "print_responses_pretty(entropy_result_multistage['responses'])"
   ]
  },
  {
   "cell_type": "markdown",
   "id": "0837e41d",
   "metadata": {},
   "source": [
    "# Putting it all together - define a comprehensive safety check function"
   ]
  },
  {
   "cell_type": "code",
   "execution_count": 105,
   "id": "53877445",
   "metadata": {},
   "outputs": [],
   "source": [
    "def comprehensive_safety_check(question, query_engine, llm, use_multi_stage=False, DEBUG_MODE=False):\n",
    "    \"\"\"\n",
    "    Perform comprehensive safety checking on a RAG response\n",
    "    \"\"\"\n",
    "    def debug_print(*args, **kwargs):\n",
    "        \"\"\"Print only if DEBUG_MODE is enabled.\"\"\"\n",
    "        if DEBUG_MODE:\n",
    "            print(*args, **kwargs)\n",
    "\n",
    "    print(\"COMPREHENSIVE MEDICAL RAG SAFETY CHECK\")\n",
    "    print(\"=\" * 60)\n",
    "\n",
    "    # Step 1: Get the answer\n",
    "    if use_multi_stage:\n",
    "        print(\"Using multi-stage retrieval...\")\n",
    "        result = multi_stage_retrieval(question, query_engine, llm)\n",
    "        answer = result[\"final_answer\"]\n",
    "        source_chunks = [node.text for node in result[\"all_sources\"]]\n",
    "    else:\n",
    "        print(\"Using standard retrieval...\")\n",
    "        response = query_engine.query(question)\n",
    "        answer = response.response\n",
    "        source_chunks = [node.text for node in response.source_nodes]\n",
    "\n",
    "    debug_print(f\"\\nQuestion: {question}\")\n",
    "    debug_print(f\"Answer: {answer[:200]}...\")\n",
    "\n",
    "    # Step 2: Attribution check\n",
    "    debug_print(f\"\\nATTRIBUTION CHECK\")\n",
    "    attribution_score, _ = check_answer_support(answer, source_chunks, encoder)\n",
    "\n",
    "    # Step 3: Consistency check\n",
    "    debug_print(f\"\\nCONSISTENCY CHECK\")\n",
    "    consistency_score, _ = check_consistency(question, query_engine, num_tries=2)\n",
    "\n",
    "    # Step 4: Find weak sentences\n",
    "    debug_print(f\"\\nWEAK SENTENCE DETECTION\")\n",
    "    weak_sentences = find_weak_sentences(answer, source_chunks)\n",
    "\n",
    "    # Show warnings\n",
    "    if weak_sentences:\n",
    "        debug_print(f\"\\nPOTENTIAL ISSUES:\")\n",
    "        for weak in weak_sentences:\n",
    "            debug_print(f\"- Weak support: \\\"{weak['sentence'][:100]}...\\\"\")\n",
    "    else:\n",
    "        debug_print(f\"\\nNo weak sentences found\")\n",
    "\n",
    "    # Step 5: Calculate semantic entropy\n",
    "    entropy_result = calculate_semantic_entropy(\n",
    "            question, query_engine, encoder, num_samples=3\n",
    "        )\n",
    "    semantic_entropy = entropy_result['semantic_entropy']\n",
    "\n",
    "    # Step 6: Overall safety assessment\n",
    "    print(f\"\\nOVERALL SAFETY ASSESSMENT\")\n",
    "    print(\"=\" * 40)\n",
    "\n",
    "    safety_score = 0\n",
    "    max_score = 3\n",
    "\n",
    "    print(f\"Attribution Score: {attribution_score:.3f}\")\n",
    "    if attribution_score > 0.6:\n",
    "        safety_score += 1\n",
    "        print(\"Good source attribution\")\n",
    "    else:\n",
    "        print(\"Weak source attribution\")\n",
    "\n",
    "    print(f\"Consistency Score: {consistency_score:.3f}\")\n",
    "    if consistency_score > 0.6:\n",
    "        safety_score += 1\n",
    "        print(\"Good consistency\")\n",
    "    else:\n",
    "        print(\"Low consistency\")\n",
    "\n",
    "    print(f\"Semantic entropy score: {semantic_entropy:.3f}\")\n",
    "    if entropy_result['confidence'] == \"HIGH\":\n",
    "        safety_score += 1\n",
    "        print(\"Good semantic entropy\")\n",
    "    else:\n",
    "        print(\"High semantic entropy\")\n",
    "    \n",
    "\n",
    "\n",
    "    # Final confidence level\n",
    "    if safety_score == max_score:\n",
    "        confidence = \"HIGH CONFIDENCE\"\n",
    "    elif safety_score >= 2:\n",
    "        confidence = \"MEDIUM CONFIDENCE\"\n",
    "    else:\n",
    "        confidence = \"LOW CONFIDENCE\"\n",
    "\n",
    "    print(f\"\\nFinal Assessment: {confidence}\")\n",
    "\n",
    "    print(f\"\\nMedical Disclaimer: This information is for educational purposes only.\")\n",
    "\n",
    "    return {\n",
    "        \"question\": question,\n",
    "        \"answer\": answer,\n",
    "        \"attribution_score\": attribution_score,\n",
    "        \"consistency_score\": consistency_score,\n",
    "        \"semantic_entropy\": semantic_entropy,\n",
    "        \"weak_sentences\": weak_sentences,\n",
    "        \"safety_score\": safety_score,\n",
    "        \"confidence\": confidence,\n",
    "    }"
   ]
  },
  {
   "cell_type": "code",
   "execution_count": 106,
   "id": "7ec04997",
   "metadata": {},
   "outputs": [
    {
     "name": "stdout",
     "output_type": "stream",
     "text": [
      "COMPREHENSIVE MEDICAL RAG SAFETY CHECK\n",
      "============================================================\n",
      "Using standard retrieval...\n",
      "Checking 2 sentences against 4 source chunks\n",
      "Sentence 1: 'The provided information does not specify which an...' -> Score: 0.531\n",
      "Sentence 2: 'It is important to consult clinical guidelines or ...' -> Score: 0.641\n",
      "Asking the same question 2 times...\n",
      "Similarity between response 1 and 2: 0.993\n",
      "\n",
      "Average consistency score: 0.993\n",
      "High consistency - responses are very similar\n",
      "\n",
      "Semantic Entropy Score: 1.000\n",
      "Interpretation: LOW uncertainty - confident answer\n",
      "\n",
      "OVERALL SAFETY ASSESSMENT\n",
      "========================================\n",
      "Attribution Score: 0.586\n",
      "Weak source attribution\n",
      "Consistency Score: 0.993\n",
      "Good consistency\n",
      "Semantic entropy score: 1.000\n",
      "Good semantic entropy\n",
      "\n",
      "Final Assessment: MEDIUM CONFIDENCE\n",
      "\n",
      "Medical Disclaimer: This information is for educational purposes only.\n"
     ]
    }
   ],
   "source": [
    "# Test the comprehensive safety check\n",
    "test_question = \"What antibiotics are safe to use with warfarin in elderly patients?\"\n",
    "safety_result = comprehensive_safety_check(test_question, query_engine_reranker, llm, use_multi_stage=False)"
   ]
  },
  {
   "cell_type": "code",
   "execution_count": 107,
   "id": "70f5cb95",
   "metadata": {},
   "outputs": [
    {
     "name": "stdout",
     "output_type": "stream",
     "text": [
      "COMPREHENSIVE MEDICAL RAG SAFETY CHECK\n",
      "============================================================\n",
      "Using multi-stage retrieval...\n",
      "Checking 12 sentences against 11 source chunks\n",
      "Sentence 1: 'When prescribing antibiotics for elderly patients ...' -> Score: 0.699\n",
      "Sentence 2: 'While the provided information does not specify wh...' -> Score: 0.637\n",
      "Sentence 3: 'Elderly patients often experience age-related phys...' -> Score: 0.656\n",
      "Sentence 4: 'Additionally, comorbidities like hypertension, dys...' -> Score: 0.645\n",
      "Sentence 5: 'These factors, combined with frailty, dementia, or...' -> Score: 0.736\n",
      "Sentence 6: 'Although specific antibiotics that minimize the ri...' -> Score: 0.747\n",
      "Sentence 7: 'This includes considering organ function, renal cl...' -> Score: 0.566\n",
      "Sentence 8: 'For instance, in patients with augmented renal cle...' -> Score: 0.753\n",
      "Sentence 9: 'Given the lack of specific guidance in the provide...' -> Score: 0.595\n",
      "Sentence 10: 'This includes regular INR monitoring to detect any...' -> Score: 0.575\n",
      "Sentence 11: 'Consulting a healthcare professional or reliable m...' -> Score: 0.685\n",
      "Sentence 12: 'In summary, while the provided information does no...' -> Score: 0.706\n",
      "Asking the same question 2 times...\n",
      "Similarity between response 1 and 2: 0.974\n",
      "\n",
      "Average consistency score: 0.974\n",
      "High consistency - responses are very similar\n",
      "\n",
      "Semantic Entropy Score: 1.557\n",
      "Interpretation: MEDIUM uncertainty - review recommended\n",
      "\n",
      "OVERALL SAFETY ASSESSMENT\n",
      "========================================\n",
      "Attribution Score: 0.667\n",
      "Good source attribution\n",
      "Consistency Score: 0.974\n",
      "Good consistency\n",
      "Semantic entropy score: 1.557\n",
      "High semantic entropy\n",
      "\n",
      "Final Assessment: MEDIUM CONFIDENCE\n",
      "\n",
      "Medical Disclaimer: This information is for educational purposes only.\n"
     ]
    }
   ],
   "source": [
    "# Test the comprehensive safety check\n",
    "test_question = \"What antibiotics are safe to use with warfarin in elderly patients?\"\n",
    "safety_result = comprehensive_safety_check(test_question, query_engine_reranker, llm, use_multi_stage=True)"
   ]
  },
  {
   "cell_type": "code",
   "execution_count": null,
   "id": "8e0d3a82",
   "metadata": {},
   "outputs": [],
   "source": []
  }
 ],
 "metadata": {
  "kernelspec": {
   "display_name": "ml_dev",
   "language": "python",
   "name": "python3"
  },
  "language_info": {
   "codemirror_mode": {
    "name": "ipython",
    "version": 3
   },
   "file_extension": ".py",
   "mimetype": "text/x-python",
   "name": "python",
   "nbconvert_exporter": "python",
   "pygments_lexer": "ipython3",
   "version": "3.11.9"
  }
 },
 "nbformat": 4,
 "nbformat_minor": 5
}
